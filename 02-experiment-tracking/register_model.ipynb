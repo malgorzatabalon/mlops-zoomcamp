{
 "cells": [
  {
   "cell_type": "code",
   "execution_count": 2,
   "id": "284bc4e6-9cb9-45a1-9af3-1ac1e07f4977",
   "metadata": {},
   "outputs": [
    {
     "name": "stderr",
     "output_type": "stream",
     "text": [
      "2024/05/25 19:56:52 WARNING mlflow.utils.autologging_utils: You are using an unsupported version of sklearn. If you encounter errors during autologging, try upgrading / downgrading sklearn to a supported version, or try upgrading MLflow.\n"
     ]
    }
   ],
   "source": [
    "import mlflow\n",
    "\n",
    "from register_model import *"
   ]
  },
  {
   "cell_type": "code",
   "execution_count": 9,
   "id": "d51a7ff2-37c5-46fb-8047-07f21e0a5de4",
   "metadata": {},
   "outputs": [],
   "source": [
    "client = MlflowClient()\n",
    "top_n = 5\n",
    "data_path = \"./output\""
   ]
  },
  {
   "cell_type": "code",
   "execution_count": 10,
   "id": "acbcf3fb-423d-435a-bae3-61c1c518c35a",
   "metadata": {},
   "outputs": [
    {
     "name": "stdout",
     "output_type": "stream",
     "text": [
      "<Run: data=<RunData: metrics={'rmse': 5.335419588556921}, params={'max_depth': '19',\n",
      " 'min_samples_leaf': '2',\n",
      " 'min_samples_split': '2',\n",
      " 'n_estimators': '11',\n",
      " 'random_state': '42'}, tags={'mlflow.runName': 'gregarious-slug-74',\n",
      " 'mlflow.source.git.commit': 'b010eb421436d01466b315ed4ea9c545f4e9e29a',\n",
      " 'mlflow.source.name': 'hpo.py',\n",
      " 'mlflow.source.type': 'LOCAL',\n",
      " 'mlflow.user': 'codespace'}>, info=<RunInfo: artifact_uri='/workspaces/mlops-zoomcamp/02-experiment-tracking/artifacts/1/f4993e7275174400b2d844cfab55c90d/artifacts', end_time=1716660014527, experiment_id='1', lifecycle_stage='active', run_id='f4993e7275174400b2d844cfab55c90d', run_name='gregarious-slug-74', run_uuid='f4993e7275174400b2d844cfab55c90d', start_time=1716660010857, status='FINISHED', user_id='codespace'>, inputs=<RunInputs: dataset_inputs=[]>>\n"
     ]
    },
    {
     "name": "stderr",
     "output_type": "stream",
     "text": [
      "2024/05/25 20:03:52 WARNING mlflow.sklearn: Failed to log training dataset information to MLflow Tracking. Reason: 'numpy.ndarray' object has no attribute 'toarray'\n",
      "2024/05/25 20:03:57 WARNING mlflow.utils.autologging_utils: MLflow autologging encountered a warning: \"/opt/conda/envs/exp-tracking-env/lib/python3.9/site-packages/_distutils_hack/__init__.py:26: UserWarning: Setuptools is replacing distutils.\"\n",
      "/opt/conda/envs/exp-tracking-env/lib/python3.9/site-packages/sklearn/metrics/_regression.py:492: FutureWarning: 'squared' is deprecated in version 1.4 and will be removed in 1.6. To calculate the root mean squared error, use the function'root_mean_squared_error'.\n",
      "  warnings.warn(\n",
      "/opt/conda/envs/exp-tracking-env/lib/python3.9/site-packages/sklearn/metrics/_regression.py:492: FutureWarning: 'squared' is deprecated in version 1.4 and will be removed in 1.6. To calculate the root mean squared error, use the function'root_mean_squared_error'.\n",
      "  warnings.warn(\n"
     ]
    },
    {
     "name": "stdout",
     "output_type": "stream",
     "text": [
      "<Run: data=<RunData: metrics={'rmse': 5.354695072530291}, params={'max_depth': '15',\n",
      " 'min_samples_leaf': '2',\n",
      " 'min_samples_split': '3',\n",
      " 'n_estimators': '40',\n",
      " 'random_state': '42'}, tags={'mlflow.runName': 'lyrical-toad-209',\n",
      " 'mlflow.source.git.commit': 'b010eb421436d01466b315ed4ea9c545f4e9e29a',\n",
      " 'mlflow.source.name': 'hpo.py',\n",
      " 'mlflow.source.type': 'LOCAL',\n",
      " 'mlflow.user': 'codespace'}>, info=<RunInfo: artifact_uri='/workspaces/mlops-zoomcamp/02-experiment-tracking/artifacts/1/5963626456e341b3bfe2341a3135b598/artifacts', end_time=1716659989447, experiment_id='1', lifecycle_stage='active', run_id='5963626456e341b3bfe2341a3135b598', run_name='lyrical-toad-209', run_uuid='5963626456e341b3bfe2341a3135b598', start_time=1716659979764, status='FINISHED', user_id='codespace'>, inputs=<RunInputs: dataset_inputs=[]>>\n"
     ]
    },
    {
     "name": "stderr",
     "output_type": "stream",
     "text": [
      "2024/05/25 20:04:00 WARNING mlflow.sklearn: Failed to log training dataset information to MLflow Tracking. Reason: 'numpy.ndarray' object has no attribute 'toarray'\n",
      "/opt/conda/envs/exp-tracking-env/lib/python3.9/site-packages/sklearn/metrics/_regression.py:492: FutureWarning: 'squared' is deprecated in version 1.4 and will be removed in 1.6. To calculate the root mean squared error, use the function'root_mean_squared_error'.\n",
      "  warnings.warn(\n",
      "/opt/conda/envs/exp-tracking-env/lib/python3.9/site-packages/sklearn/metrics/_regression.py:492: FutureWarning: 'squared' is deprecated in version 1.4 and will be removed in 1.6. To calculate the root mean squared error, use the function'root_mean_squared_error'.\n",
      "  warnings.warn(\n"
     ]
    },
    {
     "name": "stdout",
     "output_type": "stream",
     "text": [
      "<Run: data=<RunData: metrics={'rmse': 5.355041749098929}, params={'max_depth': '20',\n",
      " 'min_samples_leaf': '1',\n",
      " 'min_samples_split': '9',\n",
      " 'n_estimators': '19',\n",
      " 'random_state': '42'}, tags={'mlflow.runName': 'kindly-mink-416',\n",
      " 'mlflow.source.git.commit': 'b010eb421436d01466b315ed4ea9c545f4e9e29a',\n",
      " 'mlflow.source.name': 'hpo.py',\n",
      " 'mlflow.source.type': 'LOCAL',\n",
      " 'mlflow.user': 'codespace'}>, info=<RunInfo: artifact_uri='/workspaces/mlops-zoomcamp/02-experiment-tracking/artifacts/1/1dbb5eb31f8741fd878c08b586e3dd28/artifacts', end_time=1716660027916, experiment_id='1', lifecycle_stage='active', run_id='1dbb5eb31f8741fd878c08b586e3dd28', run_name='kindly-mink-416', run_uuid='1dbb5eb31f8741fd878c08b586e3dd28', start_time=1716660022491, status='FINISHED', user_id='codespace'>, inputs=<RunInputs: dataset_inputs=[]>>\n"
     ]
    },
    {
     "name": "stderr",
     "output_type": "stream",
     "text": [
      "2024/05/25 20:04:14 WARNING mlflow.sklearn: Failed to log training dataset information to MLflow Tracking. Reason: 'numpy.ndarray' object has no attribute 'toarray'\n",
      "/opt/conda/envs/exp-tracking-env/lib/python3.9/site-packages/sklearn/metrics/_regression.py:492: FutureWarning: 'squared' is deprecated in version 1.4 and will be removed in 1.6. To calculate the root mean squared error, use the function'root_mean_squared_error'.\n",
      "  warnings.warn(\n",
      "/opt/conda/envs/exp-tracking-env/lib/python3.9/site-packages/sklearn/metrics/_regression.py:492: FutureWarning: 'squared' is deprecated in version 1.4 and will be removed in 1.6. To calculate the root mean squared error, use the function'root_mean_squared_error'.\n",
      "  warnings.warn(\n"
     ]
    },
    {
     "name": "stdout",
     "output_type": "stream",
     "text": [
      "<Run: data=<RunData: metrics={'rmse': 5.357490752366866}, params={'max_depth': '14',\n",
      " 'min_samples_leaf': '3',\n",
      " 'min_samples_split': '4',\n",
      " 'n_estimators': '26',\n",
      " 'random_state': '42'}, tags={'mlflow.runName': 'unruly-stork-146',\n",
      " 'mlflow.source.git.commit': 'b010eb421436d01466b315ed4ea9c545f4e9e29a',\n",
      " 'mlflow.source.name': 'hpo.py',\n",
      " 'mlflow.source.type': 'LOCAL',\n",
      " 'mlflow.user': 'codespace'}>, info=<RunInfo: artifact_uri='/workspaces/mlops-zoomcamp/02-experiment-tracking/artifacts/1/3f3698f86c9e40ca9817d58090e7168c/artifacts', end_time=1716659976731, experiment_id='1', lifecycle_stage='active', run_id='3f3698f86c9e40ca9817d58090e7168c', run_name='unruly-stork-146', run_uuid='3f3698f86c9e40ca9817d58090e7168c', start_time=1716659970740, status='FINISHED', user_id='codespace'>, inputs=<RunInputs: dataset_inputs=[]>>\n"
     ]
    },
    {
     "name": "stderr",
     "output_type": "stream",
     "text": [
      "2024/05/25 20:04:23 WARNING mlflow.sklearn: Failed to log training dataset information to MLflow Tracking. Reason: 'numpy.ndarray' object has no attribute 'toarray'\n",
      "/opt/conda/envs/exp-tracking-env/lib/python3.9/site-packages/sklearn/metrics/_regression.py:492: FutureWarning: 'squared' is deprecated in version 1.4 and will be removed in 1.6. To calculate the root mean squared error, use the function'root_mean_squared_error'.\n",
      "  warnings.warn(\n",
      "/opt/conda/envs/exp-tracking-env/lib/python3.9/site-packages/sklearn/metrics/_regression.py:492: FutureWarning: 'squared' is deprecated in version 1.4 and will be removed in 1.6. To calculate the root mean squared error, use the function'root_mean_squared_error'.\n",
      "  warnings.warn(\n"
     ]
    },
    {
     "name": "stdout",
     "output_type": "stream",
     "text": [
      "<Run: data=<RunData: metrics={'rmse': 5.3633599989832135}, params={'max_depth': '14',\n",
      " 'min_samples_leaf': '2',\n",
      " 'min_samples_split': '6',\n",
      " 'n_estimators': '23',\n",
      " 'random_state': '42'}, tags={'mlflow.runName': 'loud-pig-405',\n",
      " 'mlflow.source.git.commit': 'b010eb421436d01466b315ed4ea9c545f4e9e29a',\n",
      " 'mlflow.source.name': 'hpo.py',\n",
      " 'mlflow.source.type': 'LOCAL',\n",
      " 'mlflow.user': 'codespace'}>, info=<RunInfo: artifact_uri='/workspaces/mlops-zoomcamp/02-experiment-tracking/artifacts/1/df3022c7f93a481ab40f4b5585cef3dc/artifacts', end_time=1716660010807, experiment_id='1', lifecycle_stage='active', run_id='df3022c7f93a481ab40f4b5585cef3dc', run_name='loud-pig-405', run_uuid='df3022c7f93a481ab40f4b5585cef3dc', start_time=1716660005959, status='FINISHED', user_id='codespace'>, inputs=<RunInputs: dataset_inputs=[]>>\n"
     ]
    },
    {
     "name": "stderr",
     "output_type": "stream",
     "text": [
      "2024/05/25 20:04:32 WARNING mlflow.sklearn: Failed to log training dataset information to MLflow Tracking. Reason: 'numpy.ndarray' object has no attribute 'toarray'\n",
      "/opt/conda/envs/exp-tracking-env/lib/python3.9/site-packages/sklearn/metrics/_regression.py:492: FutureWarning: 'squared' is deprecated in version 1.4 and will be removed in 1.6. To calculate the root mean squared error, use the function'root_mean_squared_error'.\n",
      "  warnings.warn(\n",
      "/opt/conda/envs/exp-tracking-env/lib/python3.9/site-packages/sklearn/metrics/_regression.py:492: FutureWarning: 'squared' is deprecated in version 1.4 and will be removed in 1.6. To calculate the root mean squared error, use the function'root_mean_squared_error'.\n",
      "  warnings.warn(\n"
     ]
    }
   ],
   "source": [
    "experiment = client.get_experiment_by_name(HPO_EXPERIMENT_NAME)\n",
    "runs = client.search_runs(\n",
    "        experiment_ids=experiment.experiment_id,\n",
    "        run_view_type=ViewType.ACTIVE_ONLY,\n",
    "        max_results=top_n,\n",
    "        order_by=[\"metrics.rmse ASC\"]\n",
    "    )\n",
    "for run in runs:\n",
    "    print(run)\n",
    "    train_and_log_model(data_path=data_path, params=run.data.params)"
   ]
  },
  {
   "cell_type": "code",
   "execution_count": 11,
   "id": "61dbb99f-ea4c-42ed-80c2-9da32d9eff35",
   "metadata": {},
   "outputs": [
    {
     "data": {
      "text/plain": [
       "<Experiment: artifact_location='/workspaces/mlops-zoomcamp/02-experiment-tracking/artifacts/2', creation_time=1716661035579, experiment_id='2', last_update_time=1716661035579, lifecycle_stage='active', name='random-forest-best-models', tags={}>"
      ]
     },
     "execution_count": 11,
     "metadata": {},
     "output_type": "execute_result"
    }
   ],
   "source": [
    "experiment = client.get_experiment_by_name(EXPERIMENT_NAME)\n",
    "experiment"
   ]
  },
  {
   "cell_type": "code",
   "execution_count": 13,
   "id": "7177a402-38b2-4159-9730-5a8cde1f3f41",
   "metadata": {},
   "outputs": [
    {
     "data": {
      "text/plain": [
       "<Run: data=<RunData: metrics={'test_rmse': 5.567408012462019,\n",
       " 'training_mean_absolute_error': 3.23365652419934,\n",
       " 'training_mean_squared_error': 24.785660360279664,\n",
       " 'training_r2_score': 0.6956122194293166,\n",
       " 'training_root_mean_squared_error': 4.978519896543516,\n",
       " 'training_score': 0.6956122194293166,\n",
       " 'val_rmse': 5.335419588556921}, params={'bootstrap': 'True',\n",
       " 'ccp_alpha': '0.0',\n",
       " 'criterion': 'squared_error',\n",
       " 'max_depth': '19',\n",
       " 'max_features': '1.0',\n",
       " 'max_leaf_nodes': 'None',\n",
       " 'max_samples': 'None',\n",
       " 'min_impurity_decrease': '0.0',\n",
       " 'min_samples_leaf': '2',\n",
       " 'min_samples_split': '2',\n",
       " 'min_weight_fraction_leaf': '0.0',\n",
       " 'monotonic_cst': 'None',\n",
       " 'n_estimators': '11',\n",
       " 'n_jobs': 'None',\n",
       " 'oob_score': 'False',\n",
       " 'random_state': '42',\n",
       " 'verbose': '0',\n",
       " 'warm_start': 'False'}, tags={'estimator_class': 'sklearn.ensemble._forest.RandomForestRegressor',\n",
       " 'estimator_name': 'RandomForestRegressor',\n",
       " 'mlflow.log-model.history': '[{\"run_id\": \"1d4ab88121fd402cae707643538eaad0\", '\n",
       "                             '\"artifact_path\": \"model\", \"utc_time_created\": '\n",
       "                             '\"2024-05-25 20:03:55.964405\", \"flavors\": '\n",
       "                             '{\"python_function\": {\"model_path\": \"model.pkl\", '\n",
       "                             '\"predict_fn\": \"predict\", \"loader_module\": '\n",
       "                             '\"mlflow.sklearn\", \"python_version\": \"3.9.19\", '\n",
       "                             '\"env\": {\"conda\": \"conda.yaml\", \"virtualenv\": '\n",
       "                             '\"python_env.yaml\"}}, \"sklearn\": '\n",
       "                             '{\"pickled_model\": \"model.pkl\", '\n",
       "                             '\"sklearn_version\": \"1.5.0\", '\n",
       "                             '\"serialization_format\": \"cloudpickle\", \"code\": '\n",
       "                             'null}}, \"model_uuid\": '\n",
       "                             '\"87044ca0d9b04c11bc2db8a4ad2c6be4\", '\n",
       "                             '\"mlflow_version\": \"2.13.0\", \"signature\": '\n",
       "                             '{\"inputs\": \"[{\\\\\"type\\\\\": \\\\\"tensor\\\\\", '\n",
       "                             '\\\\\"tensor-spec\\\\\": {\\\\\"dtype\\\\\": \\\\\"float64\\\\\", '\n",
       "                             '\\\\\"shape\\\\\": [-1, 5702]}}]\", \"outputs\": '\n",
       "                             '\"[{\\\\\"type\\\\\": \\\\\"tensor\\\\\", \\\\\"tensor-spec\\\\\": '\n",
       "                             '{\\\\\"dtype\\\\\": \\\\\"float64\\\\\", \\\\\"shape\\\\\": '\n",
       "                             '[-1]}}]\", \"params\": null}, \"model_size_bytes\": '\n",
       "                             '2437643}]',\n",
       " 'mlflow.runName': 'dashing-conch-281',\n",
       " 'mlflow.source.name': '/opt/conda/envs/exp-tracking-env/lib/python3.9/site-packages/ipykernel_launcher.py',\n",
       " 'mlflow.source.type': 'LOCAL',\n",
       " 'mlflow.user': 'codespace'}>, info=<RunInfo: artifact_uri='/workspaces/mlops-zoomcamp/02-experiment-tracking/artifacts/2/1d4ab88121fd402cae707643538eaad0/artifacts', end_time=1716667440158, experiment_id='2', lifecycle_stage='active', run_id='1d4ab88121fd402cae707643538eaad0', run_name='dashing-conch-281', run_uuid='1d4ab88121fd402cae707643538eaad0', start_time=1716667432046, status='FINISHED', user_id='codespace'>, inputs=<RunInputs: dataset_inputs=[<DatasetInput: dataset=<Dataset: digest='7edda543', name='dataset', profile=('{\"features_shape\": [62574, 5702], \"features_size\": 356796948, '\n",
       " '\"features_nbytes\": 2854375584}'), schema=('{\"mlflow_tensorspec\": {\"features\": \"[{\\\\\"type\\\\\": \\\\\"tensor\\\\\", '\n",
       " '\\\\\"tensor-spec\\\\\": {\\\\\"dtype\\\\\": \\\\\"float64\\\\\", \\\\\"shape\\\\\": [-1, 5702]}}]\", '\n",
       " '\"targets\": null}}'), source=('{\"tags\": {\"mlflow.user\": \"codespace\", \"mlflow.source.name\": '\n",
       " '\"register_model.py\", \"mlflow.source.type\": \"LOCAL\", '\n",
       " '\"mlflow.source.git.commit\": \"b010eb421436d01466b315ed4ea9c545f4e9e29a\"}}'), source_type='code'>, tags=[<InputTag: key='mlflow.data.context', value='eval'>]>,\n",
       " <DatasetInput: dataset=<Dataset: digest='5a2feb47', name='dataset', profile=('{\"features_shape\": [69392, 5702], \"features_size\": 395673184, '\n",
       " '\"features_nbytes\": 3165385472}'), schema=('{\"mlflow_tensorspec\": {\"features\": \"[{\\\\\"type\\\\\": \\\\\"tensor\\\\\", '\n",
       " '\\\\\"tensor-spec\\\\\": {\\\\\"dtype\\\\\": \\\\\"float64\\\\\", \\\\\"shape\\\\\": [-1, 5702]}}]\", '\n",
       " '\"targets\": null}}'), source=('{\"tags\": {\"mlflow.user\": \"codespace\", \"mlflow.source.name\": '\n",
       " '\"register_model.py\", \"mlflow.source.type\": \"LOCAL\", '\n",
       " '\"mlflow.source.git.commit\": \"b010eb421436d01466b315ed4ea9c545f4e9e29a\"}}'), source_type='code'>, tags=[<InputTag: key='mlflow.data.context', value='eval'>]>]>>"
      ]
     },
     "execution_count": 13,
     "metadata": {},
     "output_type": "execute_result"
    }
   ],
   "source": [
    "best_run = client.search_runs(\n",
    "        experiment_ids=experiment.experiment_id,\n",
    "        run_view_type=ViewType.ACTIVE_ONLY,\n",
    "        max_results=1,\n",
    "        order_by=[\"metrics.test_rmse ASC\"]\n",
    "    )[0]\n",
    "best_run"
   ]
  },
  {
   "cell_type": "code",
   "execution_count": null,
   "id": "be5c9765-8b00-4561-80b5-980d0d387b65",
   "metadata": {},
   "outputs": [],
   "source": []
  }
 ],
 "metadata": {
  "kernelspec": {
   "display_name": "Python 3 (ipykernel)",
   "language": "python",
   "name": "python3"
  },
  "language_info": {
   "codemirror_mode": {
    "name": "ipython",
    "version": 3
   },
   "file_extension": ".py",
   "mimetype": "text/x-python",
   "name": "python",
   "nbconvert_exporter": "python",
   "pygments_lexer": "ipython3",
   "version": "3.9.19"
  }
 },
 "nbformat": 4,
 "nbformat_minor": 5
}
